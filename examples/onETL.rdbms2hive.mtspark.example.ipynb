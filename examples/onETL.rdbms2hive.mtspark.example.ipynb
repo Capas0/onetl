{
 "cells": [
  {
   "cell_type": "markdown",
   "id": "695f737a",
   "metadata": {},
   "source": [
    "**Пример загрузки из Postgres в Hive при помощи onETL**\n",
    "\n",
    "Имопрт mtspark'a для создания сессии и onETL."
   ]
  },
  {
   "cell_type": "code",
   "execution_count": 1,
   "id": "bd6baeec",
   "metadata": {},
   "outputs": [],
   "source": [
    "from mtspark import init_spark\n",
    "\n",
    "from onetl.connection.db_connection import Postgres, Hive\n",
    "from onetl.reader.db_reader import DBReader\n",
    "from onetl.writer.db_writer import DBWriter"
   ]
  },
  {
   "cell_type": "markdown",
   "id": "75744269",
   "metadata": {},
   "source": [
    "Создаем сессию с помощью **mtspark**.\n",
    "\n",
    "**!! Обратите внимание, что нужно прокинуть Jar файл для коннекта с базой !!**"
   ]
  },
  {
   "cell_type": "code",
   "execution_count": 2,
   "id": "d6d177ec",
   "metadata": {},
   "outputs": [
    {
     "name": "stdout",
     "output_type": "stream",
     "text": [
      ":: loading settings :: file = /opt/anaconda/envs/jh-py37-conda/lib/python3.7/site-packages/mtspark/config/ivysettings.xml\n"
     ]
    },
    {
     "name": "stderr",
     "output_type": "stream",
     "text": [
      "Setting default log level to \"WARN\".\n",
      "To adjust logging level use sc.setLogLevel(newLevel). For SparkR, use setLogLevel(newLevel).\n"
     ]
    }
   ],
   "source": [
    "spark = init_spark({\"appName\": \"spark-app-name\", \"spark.jars\":\"/path/to/*.jar\"})"
   ]
  },
  {
   "cell_type": "markdown",
   "id": "faaf8f2d",
   "metadata": {},
   "source": [
    "Создаем классы **Connection** к **Postgres** и **Hive**.\n",
    "\n",
    "Также создаем словарь с опциями для jdbc."
   ]
  },
  {
   "cell_type": "code",
   "execution_count": 3,
   "id": "98398811",
   "metadata": {},
   "outputs": [],
   "source": [
    "jdbc_options = {'sessionInitStatement': 'select 300', 'fetchsize': '100'}\n",
    "postgres = Postgres(host='test-db-vip.msk.mts.ru', login='user', password='pass', database='your_db', spark=spark)\n",
    "hive = Hive(spark=spark)"
   ]
  },
  {
   "cell_type": "markdown",
   "id": "1e0e3287",
   "metadata": {},
   "source": [
    "Класс **DBReader** для чтения по **jdbc**.\n",
    "\n",
    "Метод **run** возвращает **dataFrame**"
   ]
  },
  {
   "cell_type": "code",
   "execution_count": 4,
   "id": "10509cbf",
   "metadata": {},
   "outputs": [],
   "source": [
    "reader = DBReader(connection=postgres, table='schema.table_name', jdbc_options=jdbc_options)\n",
    "table_df = reader.run()"
   ]
  },
  {
   "cell_type": "markdown",
   "id": "b7837280",
   "metadata": {},
   "source": [
    "Класс **DBWriter** для записи по **jdbc** или в **Hive**.\n",
    "\n",
    "Методу **run** передается **dataFrame** для записи."
   ]
  },
  {
   "cell_type": "code",
   "execution_count": 5,
   "id": "9acc783d",
   "metadata": {},
   "outputs": [
    {
     "name": "stderr",
     "output_type": "stream",
     "text": [
      "                                                                                \r"
     ]
    }
   ],
   "source": [
    "writer = DBWriter(connection=hive, table='pets_sb.test_onetl', format='parquet', mode='overwrite')\n",
    "writer.run(table_df)"
   ]
  }
 ],
 "metadata": {
  "kernelspec": {
   "display_name": "Python 3 (ipykernel)",
   "language": "python",
   "name": "python3"
  },
  "language_info": {
   "codemirror_mode": {
    "name": "ipython",
    "version": 3
   },
   "file_extension": ".py",
   "mimetype": "text/x-python",
   "name": "python",
   "nbconvert_exporter": "python",
   "pygments_lexer": "ipython3",
   "version": "3.7.10"
  }
 },
 "nbformat": 4,
 "nbformat_minor": 5
}